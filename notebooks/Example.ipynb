{
 "cells": [
  {
   "cell_type": "code",
   "execution_count": 20,
   "metadata": {},
   "outputs": [],
   "source": [
    "from pymatgen.core.periodic_table import get_el_sp\n",
    "from garnetdnn.ehull import get_ehull, get_tote\n",
    "from garnetdnn.formation_energy import get_descriptor, get_form_e\n",
    "from garnetdnn.util import spe2form, load_model_and_scaler"
   ]
  },
  {
   "cell_type": "markdown",
   "metadata": {},
   "source": [
    "## Get the species and occupancies for enqueried structure"
   ]
  },
  {
   "cell_type": "code",
   "execution_count": 3,
   "metadata": {},
   "outputs": [],
   "source": [
    "mix_site = 'c'\n",
    "structure_type = 'garnet'\n",
    "species = {\"c\":{get_el_sp(\"Y3+\"):2/3,\n",
    "                get_el_sp(\"Gd3+\"):1/3},\n",
    "           \"a\":{get_el_sp(\"Al3+\"):1},\n",
    "           \"d\":{get_el_sp(\"Al3+\"):1}}"
   ]
  },
  {
   "cell_type": "markdown",
   "metadata": {},
   "source": [
    "## Load model and scaler"
   ]
  },
  {
   "cell_type": "code",
   "execution_count": 10,
   "metadata": {},
   "outputs": [],
   "source": [
    "model, scaler= load_model_and_scaler(structure_type, mix_site)"
   ]
  },
  {
   "cell_type": "markdown",
   "metadata": {},
   "source": [
    "## Get formation energy"
   ]
  },
  {
   "cell_type": "code",
   "execution_count": 24,
   "metadata": {},
   "outputs": [
    {
     "name": "stdout",
     "output_type": "stream",
     "text": [
      "Formation energy: -0.06244805082678795 eV/atom\n"
     ]
    }
   ],
   "source": [
    "inputs = get_descriptor(structure_type, \n",
    "                        species,\n",
    "                        cn_specific=False)\n",
    "form_e = get_form_e(inputs, model, scaler)\n",
    "print('Formation energy: {} eV/atom'.format(form_e))"
   ]
  },
  {
   "cell_type": "markdown",
   "metadata": {},
   "source": [
    "## Get energy above hull"
   ]
  },
  {
   "cell_type": "code",
   "execution_count": 25,
   "metadata": {},
   "outputs": [
    {
     "name": "stdout",
     "output_type": "stream",
     "text": [
      "Ehull: 0 meV/atom\n"
     ]
    },
    {
     "name": "stderr",
     "output_type": "stream",
     "text": [
      "/Users/yeweike/miniconda3/lib/python3.7/site-packages/Keras-2.3.1-py3.7.egg/keras/engine/saving.py:384: UserWarning: Error in loading the saved optimizer state. As a result, your model is starting with a freshly initialized optimizer.\n",
      "  warnings.warn('Error in loading the saved optimizer '\n",
      "/Users/yeweike/miniconda3/lib/python3.7/site-packages/scikit_learn-0.21.3-py3.7-macosx-10.9-x86_64.egg/sklearn/base.py:306: UserWarning: Trying to unpickle estimator StandardScaler from version 0.19.1 when using version 0.21.3. This might lead to breaking code or invalid results. Use at your own risk.\n",
      "  UserWarning)\n",
      "/Users/yeweike/repos/pymatgen/pymatgen/entries/compatibility.py:260: UserWarning: No structure or oxide_type parameter present. Note that peroxide/superoxide corrections are not as reliable and relies only on detection of specialformulas, e.g., Li2O2.\n",
      "  \"No structure or oxide_type parameter present. Note \"\n"
     ]
    }
   ],
   "source": [
    "tot_e = get_tote(structure_type, form_e*20, species)\n",
    "decompose_entries = get_decomposed_entries(structure_type,species)\n",
    "_, ehull = get_ehull(structure_type, tot_e, species,\n",
    "                         unmix_entries=decompose_entries)\n",
    "print('Ehull: {} meV/atom'.format(ehull*1000))"
   ]
  },
  {
   "cell_type": "code",
   "execution_count": null,
   "metadata": {},
   "outputs": [],
   "source": []
  }
 ],
 "metadata": {
  "kernelspec": {
   "display_name": "Python 3",
   "language": "python",
   "name": "python3"
  },
  "language_info": {
   "codemirror_mode": {
    "name": "ipython",
    "version": 3
   },
   "file_extension": ".py",
   "mimetype": "text/x-python",
   "name": "python",
   "nbconvert_exporter": "python",
   "pygments_lexer": "ipython3",
   "version": "3.7.5"
  }
 },
 "nbformat": 4,
 "nbformat_minor": 2
}
